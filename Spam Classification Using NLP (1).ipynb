{
 "cells": [
  {
   "cell_type": "code",
   "execution_count": 1,
   "id": "e868e4ee-732d-4e85-b890-c86dc58143b8",
   "metadata": {},
   "outputs": [],
   "source": [
    "import pandas as pd\n",
    "from sklearn.model_selection import train_test_split\n",
    "from sklearn.feature_extraction.text import CountVectorizer\n",
    "from sklearn.linear_model import LogisticRegression\n",
    "from sklearn.metrics import classification_report, confusion_matrix, accuracy_score"
   ]
  },
  {
   "cell_type": "code",
   "execution_count": 13,
   "id": "30d4d4c2-22cd-4d14-89b3-17457b090bae",
   "metadata": {},
   "outputs": [
    {
     "data": {
      "text/html": [
       "<div>\n",
       "<style scoped>\n",
       "    .dataframe tbody tr th:only-of-type {\n",
       "        vertical-align: middle;\n",
       "    }\n",
       "\n",
       "    .dataframe tbody tr th {\n",
       "        vertical-align: top;\n",
       "    }\n",
       "\n",
       "    .dataframe thead th {\n",
       "        text-align: right;\n",
       "    }\n",
       "</style>\n",
       "<table border=\"1\" class=\"dataframe\">\n",
       "  <thead>\n",
       "    <tr style=\"text-align: right;\">\n",
       "      <th></th>\n",
       "      <th>v1</th>\n",
       "      <th>Label</th>\n",
       "      <th>v2</th>\n",
       "    </tr>\n",
       "  </thead>\n",
       "  <tbody>\n",
       "    <tr>\n",
       "      <th>0</th>\n",
       "      <td>ham</td>\n",
       "      <td>0</td>\n",
       "      <td>Go until jurong point, crazy.. Available only ...</td>\n",
       "    </tr>\n",
       "    <tr>\n",
       "      <th>1</th>\n",
       "      <td>ham</td>\n",
       "      <td>0</td>\n",
       "      <td>Ok lar... Joking wif u oni...</td>\n",
       "    </tr>\n",
       "    <tr>\n",
       "      <th>2</th>\n",
       "      <td>spam</td>\n",
       "      <td>1</td>\n",
       "      <td>Free entry in 2 a wkly comp to win FA Cup fina...</td>\n",
       "    </tr>\n",
       "    <tr>\n",
       "      <th>3</th>\n",
       "      <td>ham</td>\n",
       "      <td>0</td>\n",
       "      <td>U dun say so early hor... U c already then say...</td>\n",
       "    </tr>\n",
       "    <tr>\n",
       "      <th>4</th>\n",
       "      <td>ham</td>\n",
       "      <td>0</td>\n",
       "      <td>Nah I don't think he goes to usf, he lives aro...</td>\n",
       "    </tr>\n",
       "  </tbody>\n",
       "</table>\n",
       "</div>"
      ],
      "text/plain": [
       "     v1  Label                                                 v2\n",
       "0   ham      0  Go until jurong point, crazy.. Available only ...\n",
       "1   ham      0                      Ok lar... Joking wif u oni...\n",
       "2  spam      1  Free entry in 2 a wkly comp to win FA Cup fina...\n",
       "3   ham      0  U dun say so early hor... U c already then say...\n",
       "4   ham      0  Nah I don't think he goes to usf, he lives aro..."
      ]
     },
     "execution_count": 13,
     "metadata": {},
     "output_type": "execute_result"
    }
   ],
   "source": [
    "data = pd.read_csv(\"C:/Users/SUSHMITHA/Desktop/spam.csv\", encoding='ISO-8859-1')\n",
    "data.head()"
   ]
  },
  {
   "cell_type": "code",
   "execution_count": 15,
   "id": "306d6deb-0b53-48dd-bc05-ffb7f02c8102",
   "metadata": {},
   "outputs": [
    {
     "data": {
      "text/plain": [
       "v1       hamhamspamhamhamspamhamhamspamspamhamspamspamh...\n",
       "Label                                                  747\n",
       "v2       Go until jurong point, crazy.. Available only ...\n",
       "dtype: object"
      ]
     },
     "execution_count": 15,
     "metadata": {},
     "output_type": "execute_result"
    }
   ],
   "source": [
    "data.sum()"
   ]
  },
  {
   "cell_type": "code",
   "execution_count": 17,
   "id": "264e06d7-928f-41d7-b0e6-bb252d511079",
   "metadata": {},
   "outputs": [
    {
     "data": {
      "text/html": [
       "<div>\n",
       "<style scoped>\n",
       "    .dataframe tbody tr th:only-of-type {\n",
       "        vertical-align: middle;\n",
       "    }\n",
       "\n",
       "    .dataframe tbody tr th {\n",
       "        vertical-align: top;\n",
       "    }\n",
       "\n",
       "    .dataframe thead th {\n",
       "        text-align: right;\n",
       "    }\n",
       "</style>\n",
       "<table border=\"1\" class=\"dataframe\">\n",
       "  <thead>\n",
       "    <tr style=\"text-align: right;\">\n",
       "      <th></th>\n",
       "      <th>v1</th>\n",
       "      <th>Label</th>\n",
       "      <th>v2</th>\n",
       "    </tr>\n",
       "  </thead>\n",
       "  <tbody>\n",
       "    <tr>\n",
       "      <th>0</th>\n",
       "      <td>False</td>\n",
       "      <td>False</td>\n",
       "      <td>False</td>\n",
       "    </tr>\n",
       "    <tr>\n",
       "      <th>1</th>\n",
       "      <td>False</td>\n",
       "      <td>False</td>\n",
       "      <td>False</td>\n",
       "    </tr>\n",
       "    <tr>\n",
       "      <th>2</th>\n",
       "      <td>False</td>\n",
       "      <td>False</td>\n",
       "      <td>False</td>\n",
       "    </tr>\n",
       "    <tr>\n",
       "      <th>3</th>\n",
       "      <td>False</td>\n",
       "      <td>False</td>\n",
       "      <td>False</td>\n",
       "    </tr>\n",
       "    <tr>\n",
       "      <th>4</th>\n",
       "      <td>False</td>\n",
       "      <td>False</td>\n",
       "      <td>False</td>\n",
       "    </tr>\n",
       "    <tr>\n",
       "      <th>...</th>\n",
       "      <td>...</td>\n",
       "      <td>...</td>\n",
       "      <td>...</td>\n",
       "    </tr>\n",
       "    <tr>\n",
       "      <th>5567</th>\n",
       "      <td>False</td>\n",
       "      <td>False</td>\n",
       "      <td>False</td>\n",
       "    </tr>\n",
       "    <tr>\n",
       "      <th>5568</th>\n",
       "      <td>False</td>\n",
       "      <td>False</td>\n",
       "      <td>False</td>\n",
       "    </tr>\n",
       "    <tr>\n",
       "      <th>5569</th>\n",
       "      <td>False</td>\n",
       "      <td>False</td>\n",
       "      <td>False</td>\n",
       "    </tr>\n",
       "    <tr>\n",
       "      <th>5570</th>\n",
       "      <td>False</td>\n",
       "      <td>False</td>\n",
       "      <td>False</td>\n",
       "    </tr>\n",
       "    <tr>\n",
       "      <th>5571</th>\n",
       "      <td>False</td>\n",
       "      <td>False</td>\n",
       "      <td>False</td>\n",
       "    </tr>\n",
       "  </tbody>\n",
       "</table>\n",
       "<p>5572 rows × 3 columns</p>\n",
       "</div>"
      ],
      "text/plain": [
       "         v1  Label     v2\n",
       "0     False  False  False\n",
       "1     False  False  False\n",
       "2     False  False  False\n",
       "3     False  False  False\n",
       "4     False  False  False\n",
       "...     ...    ...    ...\n",
       "5567  False  False  False\n",
       "5568  False  False  False\n",
       "5569  False  False  False\n",
       "5570  False  False  False\n",
       "5571  False  False  False\n",
       "\n",
       "[5572 rows x 3 columns]"
      ]
     },
     "execution_count": 17,
     "metadata": {},
     "output_type": "execute_result"
    }
   ],
   "source": [
    "data.isna()"
   ]
  },
  {
   "cell_type": "code",
   "execution_count": 19,
   "id": "43e70ea8-9543-4d4d-a3ba-47a5bbdffec4",
   "metadata": {},
   "outputs": [
    {
     "data": {
      "text/plain": [
       "v1       0\n",
       "Label    0\n",
       "v2       0\n",
       "dtype: int64"
      ]
     },
     "execution_count": 19,
     "metadata": {},
     "output_type": "execute_result"
    }
   ],
   "source": [
    "data.isna().sum()"
   ]
  },
  {
   "cell_type": "code",
   "execution_count": 21,
   "id": "4c12485a-14f1-46e9-9f54-7830d4f71390",
   "metadata": {},
   "outputs": [],
   "source": [
    "x = data['v2']        # Message text\n",
    "y = data['Label']        # Label column (ham/spam)"
   ]
  },
  {
   "cell_type": "code",
   "execution_count": 23,
   "id": "8d318949-a34c-4e3b-9f36-cc119120168f",
   "metadata": {},
   "outputs": [
    {
     "data": {
      "text/plain": [
       "<5572x8672 sparse matrix of type '<class 'numpy.int64'>'\n",
       "\twith 73916 stored elements in Compressed Sparse Row format>"
      ]
     },
     "execution_count": 23,
     "metadata": {},
     "output_type": "execute_result"
    }
   ],
   "source": [
    "# Step 3: Convert text to BoW vectors\n",
    "vectorizer = CountVectorizer()\n",
    "x_bow = vectorizer.fit_transform(x)\n",
    "x_bow"
   ]
  },
  {
   "cell_type": "code",
   "execution_count": 25,
   "id": "3b695dc5-2cbd-4e88-b86f-08df0996b837",
   "metadata": {},
   "outputs": [
    {
     "data": {
      "text/plain": [
       "array(['bet', 'beta', 'beth', 'betta', 'better', 'bettersn', 'bettr',\n",
       "       'between', 'beverage', 'bevies', 'beware', 'beyond', 'bf', 'bffs',\n",
       "       'bfore', 'bhaji', 'bhaskar', 'bhayandar', 'bian', 'biatch', 'bid',\n",
       "       'bids', 'big', 'bigger', 'biggest', 'bike', 'bill', 'billed',\n",
       "       'billing', 'billion', 'bills', 'billy', 'bilo', 'bimbo', 'bin',\n",
       "       'biola', 'bird', 'birds', 'birla', 'biro', 'birth', 'birthdate',\n",
       "       'birthday', 'bishan', 'bit', 'bitch', 'bitching', 'bite', 'bites',\n",
       "       'bits', 'biz', 'bk', 'black', 'blackberry', 'blacko', 'blah',\n",
       "       'blake', 'blame', 'blank', 'blanked', 'blanket', 'blankets',\n",
       "       'blastin', 'bleak', 'bleh', 'bless', 'blessed', 'blessing',\n",
       "       'blessings', 'blimey', 'blind', 'block', 'blocked', 'blog',\n",
       "       'blogging', 'blogspot', 'bloke', 'blokes', 'blonde', 'bloo',\n",
       "       'blood', 'bloody', 'bloomberg', 'blow', 'blowing', 'blown', 'blu',\n",
       "       'blue', 'bluetooth', 'bluetoothhdset', 'bluff', 'blur', 'bluray',\n",
       "       'bmw', 'board', 'boat', 'boatin', 'bob', 'body', 'boggy', 'bognor',\n",
       "       'bold', 'bold2', 'bollox', 'boltblue', 'bomb', 'bone', 'bong',\n",
       "       'bonus', 'boo', 'boobs', 'book', 'booked', 'bookedthe', 'booking',\n",
       "       'bookmark', 'books', 'bookshelf', 'boooo', 'boost', 'booty',\n",
       "       'bootydelious', 'borderline', 'bored', 'borin', 'boring', 'born',\n",
       "       'borrow', 'boss', 'boston', 'bot', 'both', 'bother', 'bothering',\n",
       "       'bottle', 'bottom', 'bought', 'boughtåóbraindanceåóa',\n",
       "       'boundaries', 'bout', 'bowa', 'bowl', 'bowls', 'box', 'box1146',\n",
       "       'box139', 'box177', 'box245c2150pm', 'box326', 'box334',\n",
       "       'box334sk38ch', 'box385', 'box39822', 'box403', 'box420',\n",
       "       'box42wr29c', 'box434sk38wp150ppm18', 'box61', 'box95qu',\n",
       "       'box97n7qp', 'boy', 'boye', 'boyf', 'boyfriend', 'boys', 'boytoy',\n",
       "       'bpo', 'brah', 'brain', 'brainless', 'brains', 'brainy', 'brand',\n",
       "       'brandy', 'bras', 'brats', 'braved', 'bray', 'brb', 'brdget',\n",
       "       'bread', 'breadstick', 'break', 'breaker', 'breakfast', 'breakin',\n",
       "       'breaking', 'breaks', 'breath', 'breathe', 'breathe1', 'breather',\n",
       "       'breathing', 'breeze', 'breezy', 'bribe', 'bridal', 'bridge',\n",
       "       'bridgwater', 'brief', 'bright', 'brighten', 'brilliant',\n",
       "       'brilliantly', 'brin', 'bring', 'bringing', 'brings', 'brisk',\n",
       "       'brison', 'bristol', 'british', 'britney', 'bro', 'broad',\n",
       "       'broadband', 'broke', 'broken', 'brolly', 'bros', 'broth',\n",
       "       'brothas', 'brother', 'brothers', 'brought', 'brown', 'brownie',\n",
       "       'brownies', 'browse', 'browser', 'browsin', 'bruce', 'brum',\n",
       "       'bruv', 'bslvyl', 'bsn', 'bsnl', 'bstfrnd', 'bt', 'btw', 'btwn',\n",
       "       'bubbletext', 'bucks', 'bud', 'buddy', 'buddys', 'budget', 'buen',\n",
       "       'buff', 'buffet', 'buffy', 'bugis', 'build', 'building', 'built',\n",
       "       'bulbs', 'bull', 'bullshit', 'bunch', 'bundle', 'bunkers', 'buns',\n",
       "       'burden', 'burger', 'burgundy', 'burial', 'burn', 'burning',\n",
       "       'burns', 'burnt', 'burrito', 'bus', 'bus8', 'buses', 'busetop',\n",
       "       'business', 'busty', 'busy', 'but', 'butt', 'buttheres', 'butting',\n",
       "       'buttons', 'buy', 'buyer', 'buyers', 'buying', 'buzy', 'buzz',\n",
       "       'buzzzz', 'bw', 'bx', 'bx420', 'bx526', 'by', 'byatch', 'bye',\n",
       "       'byåóleafcutter', 'båõday', 'c52', 'cab', 'cabin', 'cable', 'cafe',\n",
       "       'cage', 'cake', 'cakes', 'cal', 'calculated', 'calculation',\n",
       "       'cali', 'calicut', 'california', 'call', 'call09050000327',\n",
       "       'call2optout', 'callback', 'callcost', 'callcost150ppmmobilesvary',\n",
       "       'calld', 'called', 'caller', 'callers', 'callertune',\n",
       "       'callfreefone', 'callin', 'calling', 'callon', 'calls', 'calls1',\n",
       "       'callså', 'calm', 'cam', 'camcorder', 'came', 'camera', 'camp',\n",
       "       'campus', 'camry', 'can', 'canada', 'canal', 'canary', 'cancel',\n",
       "       'canceled', 'cancelled', 'cancer', 'canlove', 'cann', 'canname',\n",
       "       'cannot', 'cant', 'cantdo', 'canteen', 'canåõt', 'capacity',\n",
       "       'capital', 'cappuccino', 'caps', 'captain', 'captaining', 'car',\n",
       "       'card', 'cardiff', 'cardin', 'cards', 'care', 'careabout', 'cared',\n",
       "       'career', 'careers', 'careful', 'carefully', 'careless', 'cares',\n",
       "       'caring', 'carlie', 'carlin', 'carlos', 'carly', 'carolina',\n",
       "       'caroline', 'carpark', 'carry', 'carryin', 'cars', 'cartons',\n",
       "       'cartoon', 'case', 'cash', 'cashbin', 'cashed', 'cashto', 'casing',\n",
       "       'cast', 'casting', 'castor', 'casualty', 'cat', 'catch'],\n",
       "      dtype=object)"
      ]
     },
     "execution_count": 25,
     "metadata": {},
     "output_type": "execute_result"
    }
   ],
   "source": [
    "# Optional: Convert to dense array or DataFrame if you want to inspect it\n",
    "x_bow_array = x_bow.toarray()\n",
    "\n",
    "# Optional: Get feature (word) names\n",
    "words = vectorizer.get_feature_names_out()\n",
    "words[1500:1900]"
   ]
  },
  {
   "cell_type": "code",
   "execution_count": 27,
   "id": "fe7fd83f-c206-4f72-ab4e-78f0ea3e85fd",
   "metadata": {},
   "outputs": [],
   "source": [
    "# Step 4: Train-test split\n",
    "x_train, x_test, y_train, y_test = train_test_split(x_bow, y, test_size=0.2, random_state=42)"
   ]
  },
  {
   "cell_type": "code",
   "execution_count": 29,
   "id": "1b4eb334-a007-4eee-8a8b-91e7abbbd2c9",
   "metadata": {},
   "outputs": [
    {
     "name": "stdout",
     "output_type": "stream",
     "text": [
      "Accuracy: 0.9775784753363229\n",
      "\n",
      " Classification Report:\n",
      "               precision    recall  f1-score   support\n",
      "\n",
      "           0       0.98      1.00      0.99       965\n",
      "           1       0.99      0.84      0.91       150\n",
      "\n",
      "    accuracy                           0.98      1115\n",
      "   macro avg       0.98      0.92      0.95      1115\n",
      "weighted avg       0.98      0.98      0.98      1115\n",
      "\n",
      "\n",
      " Confusion Matrix:\n",
      " [[964   1]\n",
      " [ 24 126]]\n"
     ]
    }
   ],
   "source": [
    "# Step 5: Train Logistic Regression model\n",
    "model = LogisticRegression()\n",
    "model.fit(x_train, y_train)\n",
    "\n",
    "# Step 6: Predict and evaluate\n",
    "y_pred = model.predict(x_test)\n",
    "\n",
    "print(\"Accuracy:\", accuracy_score(y_test, y_pred))\n",
    "print(\"\\n Classification Report:\\n\", classification_report(y_test, y_pred))\n",
    "print(\"\\n Confusion Matrix:\\n\", confusion_matrix(y_test, y_pred))"
   ]
  },
  {
   "cell_type": "code",
   "execution_count": null,
   "id": "3902e05b-7d71-45d5-8c32-b2e81c04b5c9",
   "metadata": {},
   "outputs": [],
   "source": []
  }
 ],
 "metadata": {
  "kernelspec": {
   "display_name": "Python [conda env:base] *",
   "language": "python",
   "name": "conda-base-py"
  },
  "language_info": {
   "codemirror_mode": {
    "name": "ipython",
    "version": 3
   },
   "file_extension": ".py",
   "mimetype": "text/x-python",
   "name": "python",
   "nbconvert_exporter": "python",
   "pygments_lexer": "ipython3",
   "version": "3.12.7"
  }
 },
 "nbformat": 4,
 "nbformat_minor": 5
}
